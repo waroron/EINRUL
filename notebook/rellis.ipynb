{
 "cells": [
  {
   "cell_type": "code",
   "execution_count": 5,
   "id": "2b6b3d95-216b-487a-b963-79d61b3fd21d",
   "metadata": {
    "tags": []
   },
   "outputs": [
    {
     "name": "stdout",
     "output_type": "stream",
     "text": [
      "Jupyter environment detected. Enabling Open3D WebVisualizer.\n",
      "[Open3D INFO] WebRTC GUI backend enabled.\n",
      "[Open3D INFO] WebRTCWindowSystem: HTTP handshake server disabled.\n"
     ]
    }
   ],
   "source": [
    "from glob import glob \n",
    "import os\n",
    "import numpy as np\n",
    "import struct\n",
    "from open3d import *\n",
    "from scipy.spatial.transform import Rotation as R\n",
    "\n",
    "def convert_kitti_bin_to_pcd(binFilePath):\n",
    "    size_float = 4\n",
    "    list_pcd = []\n",
    "    with open(binFilePath, \"rb\") as f:\n",
    "        byte = f.read(size_float * 4)\n",
    "        while byte:\n",
    "            x, y, z, intensity = struct.unpack(\"ffff\", byte)\n",
    "            list_pcd.append([x, y, z])\n",
    "            byte = f.read(size_float * 4)\n",
    "    np_pcd = np.asarray(list_pcd)\n",
    "    pcd = PointCloud()\n",
    "    pcd.points = Vector3dVector(np_pcd)\n",
    "    return pcd"
   ]
  },
  {
   "cell_type": "code",
   "execution_count": 6,
   "id": "7a7c9b8b-0bd9-4040-82d0-88d99eb56c3a",
   "metadata": {
    "tags": []
   },
   "outputs": [],
   "source": [
    "dataset_root = '/data/dataset/rellis-3d/Rellis-3D/'\n",
    "os1_bins = 'os1_cloud_node_kitti_bin'\n",
    "\n",
    "rellis_dirs = glob(os.path.join(dataset_root, \"*\"))"
   ]
  },
  {
   "cell_type": "code",
   "execution_count": 7,
   "id": "299b7a6b-d49b-445f-bbb7-bfcf1e32590d",
   "metadata": {
    "tags": []
   },
   "outputs": [
    {
     "data": {
      "text/plain": [
       "['/data/dataset/rellis-3d/Rellis-3D/00004',\n",
       " '/data/dataset/rellis-3d/Rellis-3D/00003',\n",
       " '/data/dataset/rellis-3d/Rellis-3D/00000',\n",
       " '/data/dataset/rellis-3d/Rellis-3D/00002',\n",
       " '/data/dataset/rellis-3d/Rellis-3D/00001']"
      ]
     },
     "execution_count": 7,
     "metadata": {},
     "output_type": "execute_result"
    }
   ],
   "source": [
    "rellis_dirs"
   ]
  },
  {
   "cell_type": "code",
   "execution_count": 11,
   "id": "400d0b41-39e3-4311-a74c-2df0b53c3d3e",
   "metadata": {
    "tags": []
   },
   "outputs": [],
   "source": [
    "pcd_list = []\n",
    "pose_list = []\n",
    "\n",
    "for run in rellis_dirs:\n",
    "    # load pose.txt\n",
    "    pose_txt = os.path.join(run, 'poses.txt')\n",
    "    calib_txt = os.path.join(run, 'calib.txt')\n",
    "    \n",
    "    calib = {}\n",
    "    \n",
    "    for line in open(calib_txt, 'r').readlines():\n",
    "        key, content = line.strip().split(\":\")\n",
    "        values = [float(v) for v in content.strip().split()]\n",
    "\n",
    "        pose = np.zeros((4, 4))\n",
    "        pose[0, 0:4] = values[0:4]\n",
    "        pose[1, 0:4] = values[4:8]\n",
    "        pose[2, 0:4] = values[8:12]\n",
    "        pose[3, 3] = 1.0\n",
    "\n",
    "        calib[key] = pose\n",
    "    \n",
    "    Tr = calib['Tr']\n",
    "    Tr_inv = np.linalg.inv(Tr)\n",
    "    \n",
    "    for line in open(pose_txt, 'r').readlines():\n",
    "        values = [float(v) for v in line.strip().split()]\n",
    "\n",
    "        pose = np.zeros((4, 4))\n",
    "        pose[0, 0:4] = values[0:4]\n",
    "        pose[1, 0:4] = values[4:8]\n",
    "        pose[2, 0:4] = values[8:12]\n",
    "        pose[3, 3] = 1.0\n",
    "        \n",
    "        transform_matrix = np.matmul(Tr_inv, np.matmul(pose, Tr))\n",
    "        rotation_matrix = transform_matrix[:3, :3]\n",
    "        quaternion = R.from_matrix(rotation_matrix).as_quat()\n",
    "        translation = transform_matrix[:3, 3]\n",
    "        \n",
    "        q_dict = {'x': quaternion[0], 'y': quaternion[1], 'z': quaternion[2], 'w': quaternion[3]}\n",
    "        t_dict = {'x': translation[0], 'y': translation[1], 'z': translation[2]}\n",
    "        \n",
    "        pose_list.append({'rotation': q_dict, 'position': t_dict})\n",
    "        # pose_list.append({\"rotation\": quaternion, \"position\": translation})\n",
    "\n",
    "        \n",
    "    # pose_list.append(pose)\n",
    "\n",
    "    # load bins and transform to pcd\n",
    "    \n",
    "    \n",
    "    \n",
    "    # break"
   ]
  },
  {
   "cell_type": "code",
   "execution_count": 9,
   "id": "b57884be-33b3-4227-baba-6c2ace55f866",
   "metadata": {
    "tags": []
   },
   "outputs": [
    {
     "data": {
      "text/plain": [
       "array([0.01407052, 0.00944946, 0.6018493 , 0.7984298 ])"
      ]
     },
     "execution_count": 9,
     "metadata": {},
     "output_type": "execute_result"
    }
   ],
   "source": [
    "quaternion"
   ]
  },
  {
   "cell_type": "code",
   "execution_count": 17,
   "id": "31b7b64b-d8d3-4b84-a101-60b33dfac3da",
   "metadata": {
    "tags": []
   },
   "outputs": [
    {
     "data": {
      "text/plain": [
       "array([  52.3904 , -206.665  ,    1.09902])"
      ]
     },
     "execution_count": 17,
     "metadata": {},
     "output_type": "execute_result"
    }
   ],
   "source": [
    "translation"
   ]
  },
  {
   "cell_type": "code",
   "execution_count": 16,
   "id": "ac86146d-ed86-455f-b5cd-78400cdf5969",
   "metadata": {},
   "outputs": [
    {
     "data": {
      "text/plain": [
       "array([ -2.3491508 ,  -2.73039231, -57.39364545])"
      ]
     },
     "execution_count": 16,
     "metadata": {},
     "output_type": "execute_result"
    }
   ],
   "source": [
    "R.from_matrix(rotation_matrix).as_euler('xyz', degrees=True)"
   ]
  },
  {
   "cell_type": "code",
   "execution_count": 12,
   "id": "144c49a8-2956-4c33-a854-80fc12b3be0e",
   "metadata": {
    "tags": []
   },
   "outputs": [
    {
     "data": {
      "text/plain": [
       "{'rotation': {'x': 0.014070520829566375,\n",
       "  'y': 0.009449457855140769,\n",
       "  'z': 0.6018493048380977,\n",
       "  'w': 0.7984297980760281},\n",
       " 'position': {'x': -0.136895, 'y': -0.401283, 'z': 0.166085}}"
      ]
     },
     "execution_count": 12,
     "metadata": {},
     "output_type": "execute_result"
    }
   ],
   "source": [
    "pose_list"
   ]
  }
 ],
 "metadata": {
  "kernelspec": {
   "display_name": "Python 3 (ipykernel)",
   "language": "python",
   "name": "python3"
  },
  "language_info": {
   "codemirror_mode": {
    "name": "ipython",
    "version": 3
   },
   "file_extension": ".py",
   "mimetype": "text/x-python",
   "name": "python",
   "nbconvert_exporter": "python",
   "pygments_lexer": "ipython3",
   "version": "3.11.8"
  }
 },
 "nbformat": 4,
 "nbformat_minor": 5
}
