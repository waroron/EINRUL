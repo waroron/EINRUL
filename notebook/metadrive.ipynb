{
 "cells": [
  {
   "cell_type": "code",
   "execution_count": 2,
   "id": "42506b51-fdf4-437d-ad1f-aa3a19a9a9ee",
   "metadata": {},
   "outputs": [
    {
     "name": "stderr",
     "output_type": "stream",
     "text": [
      "\u001b[38;20m[INFO] Environment: MetaDriveEnv\u001b[0m\n",
      "\u001b[38;20m[INFO] MetaDrive version: 0.4.2.3\u001b[0m\n",
      "\u001b[38;20m[INFO] Sensors: [lidar: Lidar(), side_detector: SideDetector(), lane_line_detector: LaneLineDetector(), rgb_camera: RGBCamera(200, 100)]\u001b[0m\n",
      "\u001b[38;20m[INFO] Render Mode: offscreen\u001b[0m\n",
      "\u001b[38;20m[INFO] Horizon (Max steps per agent): None\u001b[0m\n",
      "\u001b[33;20m[WARNING] Assets folder doesn't exist. Begin to download assets... (base_engine.py:753)\u001b[0m\n",
      "\u001b[38;20m[INFO] Pull assets from https://github.com/metadriverse/metadrive/releases/download/MetaDrive-0.4.2.3/assets.zip to /Users/yukiya/ws/EINRUL/.venv/lib/python3.11/site-packages/metadrive/assets.zip\u001b[0m\n",
      "100% |################################################################################################################################################################################|\n",
      "\u001b[38;20m[INFO] Extracting assets.\u001b[0m\n",
      "\u001b[38;20m[INFO] Successfully download assets, version: 0.4.2.3. MetaDrive version: 0.4.2.3\u001b[0m\n",
      ":ShowBase(warning): Unable to open 'onscreen' window.\n"
     ]
    },
    {
     "ename": "Exception",
     "evalue": "Could not open window.",
     "output_type": "error",
     "traceback": [
      "\u001b[0;31m---------------------------------------------------------------------------\u001b[0m",
      "\u001b[0;31mException\u001b[0m                                 Traceback (most recent call last)",
      "Cell \u001b[0;32mIn[2], line 21\u001b[0m\n\u001b[1;32m     19\u001b[0m frames \u001b[38;5;241m=\u001b[39m []\n\u001b[1;32m     20\u001b[0m \u001b[38;5;28;01mtry\u001b[39;00m:\n\u001b[0;32m---> 21\u001b[0m     \u001b[43menv\u001b[49m\u001b[38;5;241;43m.\u001b[39;49m\u001b[43mreset\u001b[49m\u001b[43m(\u001b[49m\u001b[43m)\u001b[49m\n\u001b[1;32m     22\u001b[0m     \u001b[38;5;28;01mfor\u001b[39;00m _ \u001b[38;5;129;01min\u001b[39;00m \u001b[38;5;28mrange\u001b[39m(\u001b[38;5;241m1\u001b[39m \u001b[38;5;28;01mif\u001b[39;00m os\u001b[38;5;241m.\u001b[39mgetenv(\u001b[38;5;124m'\u001b[39m\u001b[38;5;124mTEST_DOC\u001b[39m\u001b[38;5;124m'\u001b[39m) \u001b[38;5;28;01melse\u001b[39;00m \u001b[38;5;241m10000\u001b[39m):\n\u001b[1;32m     23\u001b[0m         \u001b[38;5;66;03m# simulation\u001b[39;00m\n\u001b[1;32m     24\u001b[0m         o, r, d, _, _ \u001b[38;5;241m=\u001b[39m env\u001b[38;5;241m.\u001b[39mstep([\u001b[38;5;241m0\u001b[39m,\u001b[38;5;241m1\u001b[39m])\n",
      "File \u001b[0;32m~/ws/EINRUL/.venv/lib/python3.11/site-packages/metadrive/envs/base_env.py:519\u001b[0m, in \u001b[0;36mBaseEnv.reset\u001b[0;34m(self, seed)\u001b[0m\n\u001b[1;32m    517\u001b[0m     log_level \u001b[38;5;241m=\u001b[39m \u001b[38;5;28mself\u001b[39m\u001b[38;5;241m.\u001b[39mconfig\u001b[38;5;241m.\u001b[39mget(\u001b[38;5;124m\"\u001b[39m\u001b[38;5;124mlog_level\u001b[39m\u001b[38;5;124m\"\u001b[39m, logging\u001b[38;5;241m.\u001b[39mDEBUG \u001b[38;5;28;01mif\u001b[39;00m \u001b[38;5;28mself\u001b[39m\u001b[38;5;241m.\u001b[39mconfig\u001b[38;5;241m.\u001b[39mget(\u001b[38;5;124m\"\u001b[39m\u001b[38;5;124mdebug\u001b[39m\u001b[38;5;124m\"\u001b[39m, \u001b[38;5;28;01mFalse\u001b[39;00m) \u001b[38;5;28;01melse\u001b[39;00m logging\u001b[38;5;241m.\u001b[39mINFO)\n\u001b[1;32m    518\u001b[0m     set_log_level(log_level)\n\u001b[0;32m--> 519\u001b[0m \u001b[38;5;28;43mself\u001b[39;49m\u001b[38;5;241;43m.\u001b[39;49m\u001b[43mlazy_init\u001b[49m\u001b[43m(\u001b[49m\u001b[43m)\u001b[49m  \u001b[38;5;66;03m# it only works the first time when reset() is called to avoid the error when render\u001b[39;00m\n\u001b[1;32m    520\u001b[0m \u001b[38;5;28mself\u001b[39m\u001b[38;5;241m.\u001b[39m_reset_global_seed(seed)\n\u001b[1;32m    521\u001b[0m \u001b[38;5;28;01mif\u001b[39;00m \u001b[38;5;28mself\u001b[39m\u001b[38;5;241m.\u001b[39mengine \u001b[38;5;129;01mis\u001b[39;00m \u001b[38;5;28;01mNone\u001b[39;00m:\n",
      "File \u001b[0;32m~/ws/EINRUL/.venv/lib/python3.11/site-packages/metadrive/envs/base_env.py:406\u001b[0m, in \u001b[0;36mBaseEnv.lazy_init\u001b[0;34m(self)\u001b[0m\n\u001b[1;32m    404\u001b[0m \u001b[38;5;28;01mif\u001b[39;00m engine_initialized():\n\u001b[1;32m    405\u001b[0m     \u001b[38;5;28;01mreturn\u001b[39;00m\n\u001b[0;32m--> 406\u001b[0m \u001b[43minitialize_engine\u001b[49m\u001b[43m(\u001b[49m\u001b[38;5;28;43mself\u001b[39;49m\u001b[38;5;241;43m.\u001b[39;49m\u001b[43mconfig\u001b[49m\u001b[43m)\u001b[49m\n\u001b[1;32m    407\u001b[0m \u001b[38;5;66;03m# engine setup\u001b[39;00m\n\u001b[1;32m    408\u001b[0m \u001b[38;5;28mself\u001b[39m\u001b[38;5;241m.\u001b[39msetup_engine()\n",
      "File \u001b[0;32m~/ws/EINRUL/.venv/lib/python3.11/site-packages/metadrive/engine/engine_utils.py:12\u001b[0m, in \u001b[0;36minitialize_engine\u001b[0;34m(env_global_config)\u001b[0m\n\u001b[1;32m      9\u001b[0m \u001b[38;5;28mcls\u001b[39m \u001b[38;5;241m=\u001b[39m BaseEngine\n\u001b[1;32m     10\u001b[0m \u001b[38;5;28;01mif\u001b[39;00m \u001b[38;5;28mcls\u001b[39m\u001b[38;5;241m.\u001b[39msingleton \u001b[38;5;129;01mis\u001b[39;00m \u001b[38;5;28;01mNone\u001b[39;00m:\n\u001b[1;32m     11\u001b[0m     \u001b[38;5;66;03m# assert cls.global_config is not None, \"Set global config before initialization BaseEngine\"\u001b[39;00m\n\u001b[0;32m---> 12\u001b[0m     \u001b[38;5;28mcls\u001b[39m\u001b[38;5;241m.\u001b[39msingleton \u001b[38;5;241m=\u001b[39m \u001b[38;5;28;43mcls\u001b[39;49m\u001b[43m(\u001b[49m\u001b[43menv_global_config\u001b[49m\u001b[43m)\u001b[49m\n\u001b[1;32m     13\u001b[0m \u001b[38;5;28;01melse\u001b[39;00m:\n\u001b[1;32m     14\u001b[0m     \u001b[38;5;28;01mraise\u001b[39;00m \u001b[38;5;167;01mPermissionError\u001b[39;00m(\u001b[38;5;124m\"\u001b[39m\u001b[38;5;124mThere should be only one BaseEngine instance in one process\u001b[39m\u001b[38;5;124m\"\u001b[39m)\n",
      "File \u001b[0;32m~/ws/EINRUL/.venv/lib/python3.11/site-packages/metadrive/engine/base_engine.py:55\u001b[0m, in \u001b[0;36mBaseEngine.__init__\u001b[0;34m(self, global_config)\u001b[0m\n\u001b[1;32m     53\u001b[0m \u001b[38;5;28mself\u001b[39m\u001b[38;5;241m.\u001b[39mid_c \u001b[38;5;241m=\u001b[39m \u001b[38;5;28mdict\u001b[39m()\n\u001b[1;32m     54\u001b[0m \u001b[38;5;28mself\u001b[39m\u001b[38;5;241m.\u001b[39mtry_pull_asset()\n\u001b[0;32m---> 55\u001b[0m \u001b[43mEngineCore\u001b[49m\u001b[38;5;241;43m.\u001b[39;49m\u001b[38;5;21;43m__init__\u001b[39;49m\u001b[43m(\u001b[49m\u001b[38;5;28;43mself\u001b[39;49m\u001b[43m,\u001b[49m\u001b[43m \u001b[49m\u001b[43mglobal_config\u001b[49m\u001b[43m)\u001b[49m\n\u001b[1;32m     56\u001b[0m Randomizable\u001b[38;5;241m.\u001b[39m\u001b[38;5;21m__init__\u001b[39m(\u001b[38;5;28mself\u001b[39m, \u001b[38;5;28mself\u001b[39m\u001b[38;5;241m.\u001b[39mglobal_random_seed)\n\u001b[1;32m     57\u001b[0m \u001b[38;5;28mself\u001b[39m\u001b[38;5;241m.\u001b[39mepisode_step \u001b[38;5;241m=\u001b[39m \u001b[38;5;241m0\u001b[39m\n",
      "File \u001b[0;32m~/ws/EINRUL/.venv/lib/python3.11/site-packages/metadrive/engine/core/engine_core.py:190\u001b[0m, in \u001b[0;36mEngineCore.__init__\u001b[0;34m(self, global_config)\u001b[0m\n\u001b[1;32m    187\u001b[0m \u001b[38;5;28;01mif\u001b[39;00m \u001b[38;5;129;01mnot\u001b[39;00m \u001b[38;5;28mself\u001b[39m\u001b[38;5;241m.\u001b[39mglobal_config[\u001b[38;5;124m\"\u001b[39m\u001b[38;5;124mdisable_model_compression\u001b[39m\u001b[38;5;124m\"\u001b[39m] \u001b[38;5;129;01mand\u001b[39;00m \u001b[38;5;129;01mnot\u001b[39;00m \u001b[38;5;28mself\u001b[39m\u001b[38;5;241m.\u001b[39muse_render_pipeline:\n\u001b[1;32m    188\u001b[0m     loadPrcFileData(\u001b[38;5;124m\"\u001b[39m\u001b[38;5;124m\"\u001b[39m, \u001b[38;5;124m\"\u001b[39m\u001b[38;5;124mcompressed-textures 1\u001b[39m\u001b[38;5;124m\"\u001b[39m)  \u001b[38;5;66;03m# Default to compress\u001b[39;00m\n\u001b[0;32m--> 190\u001b[0m \u001b[38;5;28;43msuper\u001b[39;49m\u001b[43m(\u001b[49m\u001b[43mEngineCore\u001b[49m\u001b[43m,\u001b[49m\u001b[43m \u001b[49m\u001b[38;5;28;43mself\u001b[39;49m\u001b[43m)\u001b[49m\u001b[38;5;241;43m.\u001b[39;49m\u001b[38;5;21;43m__init__\u001b[39;49m\u001b[43m(\u001b[49m\u001b[43mwindowType\u001b[49m\u001b[38;5;241;43m=\u001b[39;49m\u001b[38;5;28;43mself\u001b[39;49m\u001b[38;5;241;43m.\u001b[39;49m\u001b[43mmode\u001b[49m\u001b[43m)\u001b[49m\n\u001b[1;32m    191\u001b[0m logger\u001b[38;5;241m.\u001b[39minfo(\u001b[38;5;124m\"\u001b[39m\u001b[38;5;124mKnown Pipes: \u001b[39m\u001b[38;5;132;01m{}\u001b[39;00m\u001b[38;5;124m\"\u001b[39m\u001b[38;5;241m.\u001b[39mformat(\u001b[38;5;241m*\u001b[39mGraphicsPipeSelection\u001b[38;5;241m.\u001b[39mgetGlobalPtr()\u001b[38;5;241m.\u001b[39mgetPipeTypes()))\n\u001b[1;32m    192\u001b[0m \u001b[38;5;28;01mif\u001b[39;00m \u001b[38;5;28mself\u001b[39m\u001b[38;5;241m.\u001b[39mmain_window_disabled \u001b[38;5;129;01mand\u001b[39;00m \u001b[38;5;28mself\u001b[39m\u001b[38;5;241m.\u001b[39mmode \u001b[38;5;241m!=\u001b[39m RENDER_MODE_NONE:\n",
      "File \u001b[0;32m~/ws/EINRUL/.venv/lib/python3.11/site-packages/direct/showbase/ShowBase.py:341\u001b[0m, in \u001b[0;36mShowBase.__init__\u001b[0;34m(self, fStartDirect, windowType)\u001b[0m\n\u001b[1;32m    339\u001b[0m     \u001b[38;5;28;01mif\u001b[39;00m (\u001b[38;5;28mself\u001b[39m\u001b[38;5;241m.\u001b[39mconfig\u001b[38;5;241m.\u001b[39mGetBool(\u001b[38;5;124m'\u001b[39m\u001b[38;5;124mread-raw-mice\u001b[39m\u001b[38;5;124m'\u001b[39m, \u001b[38;5;241m0\u001b[39m)):\n\u001b[1;32m    340\u001b[0m         props\u001b[38;5;241m.\u001b[39msetRawMice(\u001b[38;5;241m1\u001b[39m)\n\u001b[0;32m--> 341\u001b[0m     \u001b[38;5;28;43mself\u001b[39;49m\u001b[38;5;241;43m.\u001b[39;49m\u001b[43mopenDefaultWindow\u001b[49m\u001b[43m(\u001b[49m\u001b[43mstartDirect\u001b[49m\u001b[43m \u001b[49m\u001b[38;5;241;43m=\u001b[39;49m\u001b[43m \u001b[49m\u001b[38;5;28;43;01mFalse\u001b[39;49;00m\u001b[43m,\u001b[49m\u001b[43m \u001b[49m\u001b[43mprops\u001b[49m\u001b[38;5;241;43m=\u001b[39;49m\u001b[43mprops\u001b[49m\u001b[43m)\u001b[49m\n\u001b[1;32m    343\u001b[0m \u001b[38;5;66;03m# The default is trackball mode, which is more convenient for\u001b[39;00m\n\u001b[1;32m    344\u001b[0m \u001b[38;5;66;03m# ad-hoc development in Python using ShowBase.  Applications\u001b[39;00m\n\u001b[1;32m    345\u001b[0m \u001b[38;5;66;03m# can explicitly call base.useDrive() if they prefer a drive\u001b[39;00m\n\u001b[1;32m    346\u001b[0m \u001b[38;5;66;03m# interface.\u001b[39;00m\n\u001b[1;32m    347\u001b[0m \u001b[38;5;28mself\u001b[39m\u001b[38;5;241m.\u001b[39mmouseInterface \u001b[38;5;241m=\u001b[39m \u001b[38;5;28mself\u001b[39m\u001b[38;5;241m.\u001b[39mtrackball\n",
      "File \u001b[0;32m~/ws/EINRUL/.venv/lib/python3.11/site-packages/direct/showbase/ShowBase.py:1026\u001b[0m, in \u001b[0;36mShowBase.openDefaultWindow\u001b[0;34m(self, *args, **kw)\u001b[0m\n\u001b[1;32m   1023\u001b[0m \u001b[38;5;28;01mif\u001b[39;00m \u001b[38;5;124m'\u001b[39m\u001b[38;5;124mstartDirect\u001b[39m\u001b[38;5;124m'\u001b[39m \u001b[38;5;129;01min\u001b[39;00m kw:\n\u001b[1;32m   1024\u001b[0m     \u001b[38;5;28;01mdel\u001b[39;00m kw[\u001b[38;5;124m'\u001b[39m\u001b[38;5;124mstartDirect\u001b[39m\u001b[38;5;124m'\u001b[39m]\n\u001b[0;32m-> 1026\u001b[0m \u001b[38;5;28;43mself\u001b[39;49m\u001b[38;5;241;43m.\u001b[39;49m\u001b[43mopenMainWindow\u001b[49m\u001b[43m(\u001b[49m\u001b[38;5;241;43m*\u001b[39;49m\u001b[43margs\u001b[49m\u001b[43m,\u001b[49m\u001b[43m \u001b[49m\u001b[38;5;241;43m*\u001b[39;49m\u001b[38;5;241;43m*\u001b[39;49m\u001b[43mkw\u001b[49m\u001b[43m)\u001b[49m\n\u001b[1;32m   1028\u001b[0m \u001b[38;5;28;01mif\u001b[39;00m startDirect:\n\u001b[1;32m   1029\u001b[0m     \u001b[38;5;28mself\u001b[39m\u001b[38;5;241m.\u001b[39m__doStartDirect()\n",
      "File \u001b[0;32m~/ws/EINRUL/.venv/lib/python3.11/site-packages/direct/showbase/ShowBase.py:1061\u001b[0m, in \u001b[0;36mShowBase.openMainWindow\u001b[0;34m(self, *args, **kw)\u001b[0m\n\u001b[1;32m   1058\u001b[0m     \u001b[38;5;28mself\u001b[39m\u001b[38;5;241m.\u001b[39mcloseWindow(\u001b[38;5;28mself\u001b[39m\u001b[38;5;241m.\u001b[39mwin, keepCamera \u001b[38;5;241m=\u001b[39m keepCamera)\n\u001b[1;32m   1060\u001b[0m \u001b[38;5;66;03m# Open a new window.\u001b[39;00m\n\u001b[0;32m-> 1061\u001b[0m \u001b[38;5;28;43mself\u001b[39;49m\u001b[38;5;241;43m.\u001b[39;49m\u001b[43mopenWindow\u001b[49m\u001b[43m(\u001b[49m\u001b[38;5;241;43m*\u001b[39;49m\u001b[43margs\u001b[49m\u001b[43m,\u001b[49m\u001b[43m \u001b[49m\u001b[38;5;241;43m*\u001b[39;49m\u001b[38;5;241;43m*\u001b[39;49m\u001b[43mkw\u001b[49m\u001b[43m)\u001b[49m\n\u001b[1;32m   1062\u001b[0m \u001b[38;5;28;01mif\u001b[39;00m \u001b[38;5;28mself\u001b[39m\u001b[38;5;241m.\u001b[39mwin \u001b[38;5;129;01mis\u001b[39;00m \u001b[38;5;28;01mNone\u001b[39;00m:\n\u001b[1;32m   1063\u001b[0m     \u001b[38;5;28mself\u001b[39m\u001b[38;5;241m.\u001b[39mwin \u001b[38;5;241m=\u001b[39m oldWin\n",
      "File \u001b[0;32m~/ws/EINRUL/.venv/lib/python3.11/site-packages/direct/showbase/ShowBase.py:806\u001b[0m, in \u001b[0;36mShowBase.openWindow\u001b[0;34m(self, props, fbprops, pipe, gsg, host, type, name, size, aspectRatio, makeCamera, keepCamera, scene, stereo, unexposedDraw, callbackWindowDict, requireWindow)\u001b[0m\n\u001b[1;32m    802\u001b[0m     \u001b[38;5;28mself\u001b[39m\u001b[38;5;241m.\u001b[39mnotify\u001b[38;5;241m.\u001b[39mwarning(\u001b[38;5;124m\"\u001b[39m\u001b[38;5;124mUnable to open \u001b[39m\u001b[38;5;124m'\u001b[39m\u001b[38;5;132;01m%s\u001b[39;00m\u001b[38;5;124m'\u001b[39m\u001b[38;5;124m window.\u001b[39m\u001b[38;5;124m\"\u001b[39m \u001b[38;5;241m%\u001b[39m (\u001b[38;5;28mtype\u001b[39m))\n\u001b[1;32m    803\u001b[0m     \u001b[38;5;28;01mif\u001b[39;00m requireWindow:\n\u001b[1;32m    804\u001b[0m         \u001b[38;5;66;03m# Unless require-window is set to false, it is an\u001b[39;00m\n\u001b[1;32m    805\u001b[0m         \u001b[38;5;66;03m# error not to open a window.\u001b[39;00m\n\u001b[0;32m--> 806\u001b[0m         \u001b[38;5;28;01mraise\u001b[39;00m \u001b[38;5;167;01mException\u001b[39;00m(\u001b[38;5;124m'\u001b[39m\u001b[38;5;124mCould not open window.\u001b[39m\u001b[38;5;124m'\u001b[39m)\n\u001b[1;32m    807\u001b[0m \u001b[38;5;28;01melse\u001b[39;00m:\n\u001b[1;32m    808\u001b[0m     \u001b[38;5;28mself\u001b[39m\u001b[38;5;241m.\u001b[39mnotify\u001b[38;5;241m.\u001b[39minfo(\u001b[38;5;124m\"\u001b[39m\u001b[38;5;124mSuccessfully opened window of type \u001b[39m\u001b[38;5;132;01m%s\u001b[39;00m\u001b[38;5;124m (\u001b[39m\u001b[38;5;132;01m%s\u001b[39;00m\u001b[38;5;124m)\u001b[39m\u001b[38;5;124m\"\u001b[39m \u001b[38;5;241m%\u001b[39m (\n\u001b[1;32m    809\u001b[0m         win\u001b[38;5;241m.\u001b[39mgetType(), win\u001b[38;5;241m.\u001b[39mgetPipe()\u001b[38;5;241m.\u001b[39mgetInterfaceName()))\n",
      "\u001b[0;31mException\u001b[0m: Could not open window."
     ]
    }
   ],
   "source": [
    "from metadrive.envs.metadrive_env import MetaDriveEnv\n",
    "from metadrive.component.sensors.rgb_camera import RGBCamera\n",
    "import cv2\n",
    "from metadrive.policy.idm_policy import IDMPolicy\n",
    "from IPython.display import Image\n",
    "from metadrive.utils import generate_gif\n",
    "import numpy as np\n",
    "import os\n",
    "sensor_size = (84, 60) if os.getenv('TEST_DOC') else (200, 100)\n",
    "\n",
    "cfg=dict(image_observation=True, \n",
    "         vehicle_config=dict(image_source=\"rgb_camera\"),\n",
    "         sensors={\"rgb_camera\": (RGBCamera, *sensor_size)},\n",
    "         stack_size=3,\n",
    "         agent_policy=IDMPolicy # drive with IDM policy\n",
    "        )\n",
    "\n",
    "env=MetaDriveEnv(cfg)\n",
    "frames = []\n",
    "try:\n",
    "    env.reset()\n",
    "    for _ in range(1 if os.getenv('TEST_DOC') else 10000):\n",
    "        # simulation\n",
    "        o, r, d, _, _ = env.step([0,1])\n",
    "        # rendering, the last one is the current frame\n",
    "        ret=o[\"image\"][..., -1]*255 # [0., 1.] to [0, 255]\n",
    "        ret=ret.astype(np.uint8)\n",
    "        frames.append(ret[..., ::-1])\n",
    "        if d:\n",
    "            break\n",
    "    generate_gif(frames if os.getenv('TEST_DOC') else frames[-300:-50])\n",
    "finally:\n",
    "    env.close()"
   ]
  }
 ],
 "metadata": {
  "kernelspec": {
   "display_name": "Python 3 (ipykernel)",
   "language": "python",
   "name": "python3"
  },
  "language_info": {
   "codemirror_mode": {
    "name": "ipython",
    "version": 3
   },
   "file_extension": ".py",
   "mimetype": "text/x-python",
   "name": "python",
   "nbconvert_exporter": "python",
   "pygments_lexer": "ipython3",
   "version": "3.11.9"
  }
 },
 "nbformat": 4,
 "nbformat_minor": 5
}
