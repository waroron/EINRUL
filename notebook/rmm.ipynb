{
 "cells": [
  {
   "cell_type": "code",
   "execution_count": 16,
   "id": "694479ad-240d-45f1-97d0-e1f7545d1b8b",
   "metadata": {},
   "outputs": [],
   "source": [
    "import open3d as o3d"
   ]
  },
  {
   "cell_type": "code",
   "execution_count": 17,
   "id": "951127b0-a97e-4b97-ae15-ed72e5a24379",
   "metadata": {},
   "outputs": [],
   "source": [
    "import numpy as np\n",
    "from scipy import linalg\n",
    "import time\n",
    "import pickle\n",
    "import torch\n",
    "from natsort import natsorted\n",
    "import os\n",
    "from glob import glob\n",
    "from scipy.spatial.transform import Rotation as R\n",
    "import numpy as np\n",
    "\n",
    "import numpy as np\n",
    "# from open3d import JVisualizer\n",
    "\n",
    "class random_mapping_method():\n",
    "\n",
    "    '''\n",
    "    pamameters:\n",
    "    targetDimen: int, the dimension of the target features\n",
    "    actiFunc: string, the activation function defined within the class as follows\n",
    "    scaleRate: float: the scale of the random weights \n",
    "    '''\n",
    "    def __init__(self,targetDimen=100, actiFunc='sin', scaleRate=1):\n",
    "        self.actiFunc = actiFunc\n",
    "        self.targetDimen = targetDimen\n",
    "        self.scaleRate = scaleRate\n",
    "    \n",
    "    def feature_mapping(self,dataSet):\n",
    "        initial_dim = np.size(dataSet, 1)\n",
    "        self.randomWeights = (np.random.rand(initial_dim, self.targetDimen)*2-1)*self.scaleRate\n",
    "        self.randomBias = (np.random.rand(1, self.targetDimen)*2-1)*self.scaleRate\n",
    "        #activation functions, not limited to the followings\n",
    "        def sigmoid(dataSet):\n",
    "            return 1.0 / (1 + np.exp(-dataSet))\n",
    "        def sin(dataSet):\n",
    "            return np.sin(dataSet)\n",
    "        def linear(dataSet):\n",
    "            return dataSet\n",
    "        def tanh(dataSet):\n",
    "            return np.tanh(dataSet)\n",
    "            \n",
    "        actiFun = {'sig':sigmoid, 'sin':sin, 'linear':linear, 'tanh':tanh}\n",
    "        \n",
    "        randomSetTemp = np.dot(dataSet, self.randomWeights) + np.tile(self.randomBias, (len(dataSet), 1))\n",
    "        randomSet = actiFun[self.actiFunc](randomSetTemp)\n",
    "        return randomSet\n",
    "\n",
    "    '''\n",
    "    Compute least-squares solution of the linear regression model, and other method can also be used.\n",
    "    parameters:\n",
    "    X: Training data, array-like of shape (n_samples, n_features). In the context of rmm, it will be the generated randomSet.\n",
    "    Y: Target values, array-like of shape (n_samples,)\n",
    "    '''\n",
    "    def fit(self, X, Y):\n",
    "        X = np.c_[X, np.ones(len(X))]  # Augment features to yield intercept\n",
    "        self.coef_, self._residues, self.rank_, self.singular_ = linalg.lstsq(X, Y)\n",
    "\n",
    "    '''\n",
    "    Predict the targets using the fitted linear model\n",
    "    parameter:\n",
    "    X2pedict: Test samples, array-like of shape (n_samples, n_features). \n",
    "              It must be transformed by the same random mapping with the training data.\n",
    "    '''\n",
    "    def predict(self, X2pedict):\n",
    "        X2pedict = np.c_[X2pedict, np.ones(len(X2pedict))]\n",
    "        Y_Predictd = np.matmul(X2pedict, self.coef_) \n",
    "        return Y_Predictd\n",
    "    \n",
    "    '''\n",
    "    Return the coefficient of determination and the mean square error of the prediction.\n",
    "    parameters:\n",
    "    X: Test samples, array-like of shape (n_samples, n_features).\n",
    "    Y: True values for X, array-like of shape (n_samples,).\n",
    "    '''\n",
    "    def score(self, X,Y):\n",
    "        Y_Predictd = self.predict(X)\n",
    "        Y_mean = np.mean(Y)\n",
    "        S_tol = np.sum((Y-Y_mean)**2)\n",
    "        S_reg = np.sum((Y_Predictd-Y)**2)\n",
    "        R2 = 1 - S_reg/S_tol\n",
    "        mse = ((Y-Y_Predictd)**2).sum() / len(Y)\n",
    "        return R2, mse"
   ]
  },
  {
   "cell_type": "code",
   "execution_count": 4,
   "id": "faa9fc5c-a01a-45d1-9656-b7c57cc978d5",
   "metadata": {},
   "outputs": [
    {
     "data": {
      "text/plain": [
       "'/Users/yukiya/ws/dataset/EINRUL'"
      ]
     },
     "execution_count": 4,
     "metadata": {},
     "output_type": "execute_result"
    }
   ],
   "source": [
    "rellis_root"
   ]
  },
  {
   "cell_type": "code",
   "execution_count": 6,
   "id": "d69fe1df-48a9-4fe4-a05c-fdcb997badf0",
   "metadata": {},
   "outputs": [
    {
     "name": "stdout",
     "output_type": "stream",
     "text": [
      "available 2059 pcd files and 2059 poses.\n"
     ]
    }
   ],
   "source": [
    "def load_pkl(path):\n",
    "    with open(path, 'rb') as f:\n",
    "        pkl = pickle.load(f)\n",
    "    return pkl\n",
    "\n",
    "def transform_pcd(pcd, quaternion, translation):\n",
    "    # クォータニオンから回転行列を生成\n",
    "    rotation_matrix = R.from_quat([quaternion['x'], quaternion['y'], quaternion['z'], quaternion['w']]).as_matrix()\n",
    "\n",
    "    # 変換行列を作成\n",
    "    transform_matrix = np.eye(4)\n",
    "    transform_matrix[:3, :3] = rotation_matrix\n",
    "    transform_matrix[:3, 3] = [translation['x'], translation['y'], translation['z']]\n",
    "\n",
    "    # 点群に変換を適用\n",
    "    pcd.transform(transform_matrix)\n",
    "\n",
    "    return pcd\n",
    "\n",
    "def transform_pcd_from_dict(pcd, trans_dict):\n",
    "    return transform_pcd(pcd, trans_dict['rotation'], trans_dict['position'])\n",
    "\n",
    "# rellis(einrul)\n",
    "rellis_root = '/Users/yukiya/ws/dataset/EINRUL'\n",
    "sec = os.listdir(rellis_root)\n",
    "pose_path = os.path.join(rellis_root, sec[0], 'poses.pkl')\n",
    "pcd_path = natsorted(glob(os.path.join(rellis_root, sec[0], \"**/*.pcd\"), recursive=True))\n",
    "\n",
    "# scannet\n",
    "# pose_path = '../scene/scannet/scene0000_00/final_pose.pkl'\n",
    "# final_pcd_path = '../scene/scannet/scene0000_00/final_pcd.pcd'\n",
    "\n",
    "# rellis-3d\n",
    "# pose_path = '../scene/rellis-3d/0/final_pose.pkl'\n",
    "# final_pcd_path = '../scene/rellis-3d/0/final_pcd.pcd'\n",
    "\n",
    "with open(pose_path, 'rb') as f:\n",
    "    poses = pickle.load(f)\n",
    "\n",
    "print(f\"available {len(pcd_path)} pcd files and {len(poses)} poses.\")"
   ]
  },
  {
   "cell_type": "code",
   "execution_count": 8,
   "id": "510ebbdb-b2fe-4e7d-9aed-6bce68a3beab",
   "metadata": {},
   "outputs": [],
   "source": [
    "loaded_pose = load_pkl(pose_path)\n",
    "pcd = o3d.io.read_point_cloud(pcd_path[0])"
   ]
  },
  {
   "cell_type": "code",
   "execution_count": 13,
   "id": "4ba25b3a-1784-47dc-886f-29e02183ff3d",
   "metadata": {},
   "outputs": [],
   "source": [
    "N_SAMPLES = 80000\n",
    "xyz = np.asarray(pcd.points)\n",
    "xy = xyz[:, :-1]\n",
    "z = xyz[:, -1]\n",
    "rmm = random_mapping_method(targetDimen=500, actiFunc='sin', scaleRate=4)\n",
    "\n",
    "\n",
    "data_transformed = rmm.feature_mapping(xy)\n",
    "x_training, y_training, x_test, y_test = data_transformed[:N_SAMPLES,:], z[:N_SAMPLES], data_transformed[N_SAMPLES:,:], z[N_SAMPLES:]\n",
    "\n",
    "rmm.fit(x_training, y_training)"
   ]
  },
  {
   "cell_type": "code",
   "execution_count": 18,
   "id": "9539498f-5045-4c45-be89-0595ae4c75b3",
   "metadata": {},
   "outputs": [
    {
     "name": "stdout",
     "output_type": "stream",
     "text": [
      "r2_training:0.826163, r2_test:-0.936472, mseTraining:0.100696, mseTest:0.943818\n"
     ]
    }
   ],
   "source": [
    "y_predicted = rmm.predict(np.r_[x_training, x_test])\n",
    "\n",
    "r2_training, mseTraining = rmm.score(x_training, y_training)\n",
    "r2_test, mseTest = rmm.score(x_test, y_test)\n",
    "# key results\n",
    "print('r2_training:%F, r2_test:%F, mseTraining:%f, mseTest:%f' \\\n",
    "    % (r2_training, r2_test, mseTraining, mseTest))"
   ]
  },
  {
   "cell_type": "code",
   "execution_count": 25,
   "id": "25d5322a-4dce-4d6c-bc9f-f59e57d90806",
   "metadata": {},
   "outputs": [
    {
     "name": "stdout",
     "output_type": "stream",
     "text": [
      "\u001b[1;33m[Open3D WARNING] GLFW Error: Cocoa: Failed to find service port for display\u001b[0;m\n"
     ]
    }
   ],
   "source": [
    "src_pcd = o3d.geometry.PointCloud()\n",
    "src_pcd.points = o3d.utility.Vector3dVector(xyz)\n",
    "o3d.visualization.draw_geometries([pcd])"
   ]
  }
 ],
 "metadata": {
  "kernelspec": {
   "display_name": "Python 3 (ipykernel)",
   "language": "python",
   "name": "python3"
  },
  "language_info": {
   "codemirror_mode": {
    "name": "ipython",
    "version": 3
   },
   "file_extension": ".py",
   "mimetype": "text/x-python",
   "name": "python",
   "nbconvert_exporter": "python",
   "pygments_lexer": "ipython3",
   "version": "3.11.9"
  }
 },
 "nbformat": 4,
 "nbformat_minor": 5
}
