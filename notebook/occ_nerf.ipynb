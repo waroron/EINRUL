{
 "cells": [
  {
   "cell_type": "code",
   "execution_count": 3,
   "id": "ad811d65-ac2a-4cce-b65b-425fd3f45413",
   "metadata": {},
   "outputs": [],
   "source": [
    "import sys\n",
    "sys.path.append('../')\n",
    "\n",
    "from utils.misc import *\n",
    "from model import nerf\n",
    "import pickle"
   ]
  },
  {
   "cell_type": "code",
   "execution_count": 8,
   "id": "84fe95f9-58ae-42dc-b0de-193e1a511dc8",
   "metadata": {},
   "outputs": [],
   "source": [
    "bbox_path = '../scene/rellis-3d/0/bbox_prior.pkl'\n",
    "with open(bbox_path, 'rb') as f:\n",
    "    bbox = pickle.load(f)\n",
    "\n",
    "x_range = bbox[1][0] - bbox[0][0]\n",
    "y_range = bbox[1][1] - bbox[0][1]\n",
    "z_range = bbox[1][2] - bbox[0][2]\n",
    "bbox[0][0] -= x_range * 0.1\n",
    "bbox[1][0] += x_range * 0.1\n",
    "bbox[0][1] -= y_range * 0.1\n",
    "bbox[1][1] += y_range * 0.1\n",
    "bbox[0][2] -= z_range * 0.1\n",
    "bbox[1][2] += z_range * 0.1"
   ]
  },
  {
   "cell_type": "code",
   "execution_count": 9,
   "id": "9c019a26-2729-4006-bbd5-25d4c08acdba",
   "metadata": {},
   "outputs": [
    {
     "data": {
      "text/plain": [
       "<All keys matched successfully>"
      ]
     },
     "execution_count": 9,
     "metadata": {},
     "output_type": "execute_result"
    }
   ],
   "source": [
    "depth = 2\n",
    "width = 64\n",
    "model_path = '../scene/rellis-3d/0/checkpoints/299_map.pt'\n",
    "\n",
    "\n",
    "model = nerf.occNeRF(depth, width, bbox=bbox)\n",
    "ckpt = torch.load(model_path)\n",
    "model.load_state_dict(ckpt)"
   ]
  },
  {
   "cell_type": "code",
   "execution_count": 10,
   "id": "2a669aca-b720-4037-b3cc-b5279d0e03a6",
   "metadata": {},
   "outputs": [
    {
     "data": {
      "text/plain": [
       "occNeRF(\n",
       "  (embedding): HashEmbedder(\n",
       "    (embeddings): ModuleList(\n",
       "      (0-15): 16 x Embedding(524288, 2)\n",
       "    )\n",
       "  )\n",
       "  (x_concat_layer): Linear(in_features=3, out_features=32, bias=True)\n",
       "  (layers): ModuleList(\n",
       "    (0): Sequential(\n",
       "      (0): Linear(in_features=64, out_features=64, bias=True)\n",
       "      (1): Siren(\n",
       "        (activation): Sine()\n",
       "      )\n",
       "    )\n",
       "    (1): Sequential(\n",
       "      (0): Linear(in_features=128, out_features=64, bias=True)\n",
       "      (1): Siren(\n",
       "        (activation): Sine()\n",
       "      )\n",
       "    )\n",
       "  )\n",
       "  (output_linear): Linear(in_features=64, out_features=1, bias=True)\n",
       ")"
      ]
     },
     "execution_count": 10,
     "metadata": {},
     "output_type": "execute_result"
    }
   ],
   "source": [
    "model"
   ]
  },
  {
   "cell_type": "code",
   "execution_count": 12,
   "id": "00c5f8d7-609d-474f-95ba-b80db4c301de",
   "metadata": {},
   "outputs": [
    {
     "data": {
      "text/plain": [
       "(tensor([[1, 1, 1],\n",
       "         [2, 2, 2],\n",
       "         [3, 3, 3]]),\n",
       " tensor([[4, 5, 6],\n",
       "         [4, 5, 6],\n",
       "         [4, 5, 6]]))"
      ]
     },
     "execution_count": 12,
     "metadata": {},
     "output_type": "execute_result"
    }
   ],
   "source": [
    "x = torch.tensor([1, 2, 3])\n",
    "y = torch.tensor([4, 5, 6])\n",
    "\n",
    "torch.meshgrid(x, y, indexing='ij')"
   ]
  }
 ],
 "metadata": {
  "kernelspec": {
   "display_name": "Python 3 (ipykernel)",
   "language": "python",
   "name": "python3"
  },
  "language_info": {
   "codemirror_mode": {
    "name": "ipython",
    "version": 3
   },
   "file_extension": ".py",
   "mimetype": "text/x-python",
   "name": "python",
   "nbconvert_exporter": "python",
   "pygments_lexer": "ipython3",
   "version": "3.11.8"
  }
 },
 "nbformat": 4,
 "nbformat_minor": 5
}
