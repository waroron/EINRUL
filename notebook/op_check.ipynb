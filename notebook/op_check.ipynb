{
 "cells": [
  {
   "cell_type": "markdown",
   "id": "66889259-23ef-42fc-ac72-5743e4852d8c",
   "metadata": {},
   "source": [
    "## renderの挙動確認"
   ]
  },
  {
   "cell_type": "code",
   "execution_count": 3,
   "id": "2faf968e-d88b-4d0b-bfd3-539b2c31d72b",
   "metadata": {},
   "outputs": [],
   "source": [
    "import sys\n",
    "sys.path.append('../')"
   ]
  },
  {
   "cell_type": "code",
   "execution_count": 7,
   "id": "983e1cf9-d233-480c-8735-a31efb624241",
   "metadata": {},
   "outputs": [],
   "source": [
    "from tasks.lidar import *\n",
    "import open3d as o3d\n",
    "import numpy as np"
   ]
  },
  {
   "cell_type": "code",
   "execution_count": 8,
   "id": "397bfc63-4f2f-4db1-9008-a12f78f866be",
   "metadata": {},
   "outputs": [],
   "source": [
    "pcd_file = '../scene/rellis-3d/0/pointcloud/0.pcd'\n",
    "\n",
    "pcd = o3d.io.read_point_cloud(pcd_file)\n",
    "pcd = np.asarray(pcd.points)\n",
    "pcd = torch.from_numpy(pcd).float().to('cpu')"
   ]
  },
  {
   "cell_type": "code",
   "execution_count": 16,
   "id": "1fd30949-4cae-4af2-b828-cfbd8f7be2da",
   "metadata": {},
   "outputs": [
    {
     "data": {
      "text/plain": [
       "tensor([[ 9.5962,  0.5113, -1.3273],\n",
       "        [ 8.6473, -0.4903, -1.2646]])"
      ]
     },
     "execution_count": 16,
     "metadata": {},
     "output_type": "execute_result"
    }
   ],
   "source": [
    "pcd[:2]"
   ]
  },
  {
   "cell_type": "code",
   "execution_count": 15,
   "id": "a9dc77a2-5fff-437a-9c89-9aa8289c43c3",
   "metadata": {},
   "outputs": [
    {
     "data": {
      "text/plain": [
       "(tensor([[ 0.0000,  0.0000,  0.0000, -0.0533,  0.1383,  1.0000],\n",
       "         [ 0.0000,  0.0000,  0.0000,  0.0567,  0.1462,  1.0000]]),\n",
       " tensor([[9.5962],\n",
       "         [8.6473]]))"
      ]
     },
     "execution_count": 15,
     "metadata": {},
     "output_type": "execute_result"
    }
   ],
   "source": [
    "render.pcd2ray(pcd[:2])"
   ]
  }
 ],
 "metadata": {
  "kernelspec": {
   "display_name": "Python 3 (ipykernel)",
   "language": "python",
   "name": "python3"
  },
  "language_info": {
   "codemirror_mode": {
    "name": "ipython",
    "version": 3
   },
   "file_extension": ".py",
   "mimetype": "text/x-python",
   "name": "python",
   "nbconvert_exporter": "python",
   "pygments_lexer": "ipython3",
   "version": "3.11.8"
  }
 },
 "nbformat": 4,
 "nbformat_minor": 5
}
