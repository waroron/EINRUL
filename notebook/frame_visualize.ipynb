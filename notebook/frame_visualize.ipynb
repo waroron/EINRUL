{
 "cells": [
  {
   "cell_type": "markdown",
   "id": "457b1ac1-a24d-4fe8-a37e-e0c8bfa39f49",
   "metadata": {},
   "source": [
    "## データセットのフレーム可視化\n",
    "- rellisがscannetに比べて学習時のlossが高すぎる\n",
    "- frame_selectionの時点でおかしい説？"
   ]
  },
  {
   "cell_type": "code",
   "execution_count": 1,
   "id": "93a6844d-90c2-4f15-818b-3a0480d028e6",
   "metadata": {},
   "outputs": [],
   "source": [
    "import open3d"
   ]
  },
  {
   "cell_type": "code",
   "execution_count": 1,
   "id": "5e50e240-bf10-46e9-b043-9881dfd37c66",
   "metadata": {},
   "outputs": [],
   "source": [
    "import os"
   ]
  },
  {
   "cell_type": "code",
   "execution_count": 2,
   "id": "de30efd6-1677-4239-b9c7-7b8adfbf56cd",
   "metadata": {
    "tags": []
   },
   "outputs": [],
   "source": [
    "import pickle\n",
    "import torch\n",
    "import open3d as o3d\n",
    "from natsort import natsorted\n",
    "import os\n",
    "from glob import glob\n",
    "from scipy.spatial.transform import Rotation as R\n",
    "import numpy as np\n",
    "\n",
    "import numpy as np\n",
    "# from open3d import JVisualizer"
   ]
  },
  {
   "cell_type": "code",
   "execution_count": null,
   "id": "395753be-f0a2-4aa0-96c3-6968966c401e",
   "metadata": {},
   "outputs": [],
   "source": [
    "o3d.__version__"
   ]
  },
  {
   "cell_type": "code",
   "execution_count": 4,
   "id": "7c956780-7d63-413a-9338-00b4fb5383d5",
   "metadata": {
    "tags": []
   },
   "outputs": [
    {
     "name": "stdout",
     "output_type": "stream",
     "text": [
      "available 2059 pcd files and 2059 poses.\n"
     ]
    }
   ],
   "source": [
    "def load_pkl(path):\n",
    "    with open(path, 'rb') as f:\n",
    "        pkl = pickle.load(f)\n",
    "    return pkl\n",
    "\n",
    "# rellis(einrul)\n",
    "rellis_root = '/Users/yukiya/ws/dataset/EINRUL'\n",
    "sec = os.listdir(rellis_root)\n",
    "pose_path = os.path.join(rellis_root, sec[0], 'poses.pkl')\n",
    "pcd_path = natsorted(glob(os.path.join(rellis_root, sec[0], \"**/*.pcd\"), recursive=True))\n",
    "\n",
    "# scannet\n",
    "# pose_path = '../scene/scannet/scene0000_00/final_pose.pkl'\n",
    "# final_pcd_path = '../scene/scannet/scene0000_00/final_pcd.pcd'\n",
    "\n",
    "# rellis-3d\n",
    "# pose_path = '../scene/rellis-3d/0/final_pose.pkl'\n",
    "# final_pcd_path = '../scene/rellis-3d/0/final_pcd.pcd'\n",
    "\n",
    "with open(pose_path, 'rb') as f:\n",
    "    poses = pickle.load(f)\n",
    "\n",
    "print(f\"available {len(pcd_path)} pcd files and {len(poses)} poses.\")"
   ]
  },
  {
   "cell_type": "code",
   "execution_count": 6,
   "id": "e95b3938-0369-4e34-afc4-f66565d86f6e",
   "metadata": {},
   "outputs": [],
   "source": [
    "def transform_pcd(pcd, quaternion, translation):\n",
    "    # クォータニオンから回転行列を生成\n",
    "    rotation_matrix = R.from_quat([quaternion['x'], quaternion['y'], quaternion['z'], quaternion['w']]).as_matrix()\n",
    "\n",
    "    # 変換行列を作成\n",
    "    transform_matrix = np.eye(4)\n",
    "    transform_matrix[:3, :3] = rotation_matrix\n",
    "    transform_matrix[:3, 3] = [translation['x'], translation['y'], translation['z']]\n",
    "\n",
    "    # 点群に変換を適用\n",
    "    pcd.transform(transform_matrix)\n",
    "\n",
    "    return pcd\n",
    "\n",
    "def transform_pcd_from_dict(pcd, trans_dict):\n",
    "    return transform_pcd(pcd, trans_dict['rotation'], trans_dict['position'])"
   ]
  },
  {
   "cell_type": "code",
   "execution_count": 5,
   "id": "1a5d5157-2a8c-4f31-935e-0b95eb4677bf",
   "metadata": {},
   "outputs": [
    {
     "ename": "NameError",
     "evalue": "name 'final_pcd_path' is not defined",
     "output_type": "error",
     "traceback": [
      "\u001b[0;31m---------------------------------------------------------------------------\u001b[0m",
      "\u001b[0;31mNameError\u001b[0m                                 Traceback (most recent call last)",
      "Cell \u001b[0;32mIn[5], line 2\u001b[0m\n\u001b[1;32m      1\u001b[0m loaded_pose \u001b[38;5;241m=\u001b[39m load_pkl(pose_path)\n\u001b[0;32m----> 2\u001b[0m pcd \u001b[38;5;241m=\u001b[39m o3d\u001b[38;5;241m.\u001b[39mio\u001b[38;5;241m.\u001b[39mread_point_cloud(\u001b[43mfinal_pcd_path\u001b[49m)\n\u001b[1;32m      3\u001b[0m \u001b[38;5;66;03m# pcd_list = [o3d.io.read_point_cloud(final_pcd_path)\u001b[39;00m\n\u001b[1;32m      5\u001b[0m o3d\u001b[38;5;241m.\u001b[39mvisualization\u001b[38;5;241m.\u001b[39mdraw_geometries([pcd])\n",
      "\u001b[0;31mNameError\u001b[0m: name 'final_pcd_path' is not defined"
     ]
    }
   ],
   "source": [
    "loaded_pose = load_pkl(pose_path)\n",
    "pcd = o3d.io.read_point_cloud(final_pcd_path)\n",
    "# pcd_list = [o3d.io.read_point_cloud(final_pcd_path)\n",
    "\n",
    "o3d.visualization.draw_geometries([pcd])"
   ]
  },
  {
   "cell_type": "code",
   "execution_count": 9,
   "id": "ab0e34e0-08d6-4ebf-a8f5-53904ab98d8b",
   "metadata": {},
   "outputs": [],
   "source": [
    "split = 100\n",
    "\n",
    "pcd_list = [o3d.io.read_point_cloud(pcd_path[idx]) for idx in range(0, len(pcd_path), split)]\n",
    "pose_list = [poses[idx] for idx in range(0, len(pcd_path), split)]\n",
    "\n",
    "transformed_list = [transform_pcd_from_dict(pcd_list[idx], pose_list[idx]) for idx in range(len(pose_list))]"
   ]
  },
  {
   "cell_type": "code",
   "execution_count": 10,
   "id": "20a023ae-4e70-422d-a1b8-a2faf0617fa7",
   "metadata": {},
   "outputs": [
    {
     "name": "stdout",
     "output_type": "stream",
     "text": [
      "\u001b[1;33m[Open3D WARNING] GLFW Error: Cocoa: Failed to find service port for display\u001b[0;m\n"
     ]
    }
   ],
   "source": [
    "o3d.visualization.draw_geometries(transformed_list)\n",
    "# draw(transformed_list)"
   ]
  }
 ],
 "metadata": {
  "kernelspec": {
   "display_name": "Python 3 (ipykernel)",
   "language": "python",
   "name": "python3"
  },
  "language_info": {
   "codemirror_mode": {
    "name": "ipython",
    "version": 3
   },
   "file_extension": ".py",
   "mimetype": "text/x-python",
   "name": "python",
   "nbconvert_exporter": "python",
   "pygments_lexer": "ipython3",
   "version": "3.11.9"
  }
 },
 "nbformat": 4,
 "nbformat_minor": 5
}
